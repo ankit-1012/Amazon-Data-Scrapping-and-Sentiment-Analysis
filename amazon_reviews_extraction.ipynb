{
 "cells": [
  {
   "cell_type": "code",
   "execution_count": 32,
   "id": "5c876637",
   "metadata": {},
   "outputs": [],
   "source": [
    "# Import packages\n",
    "import requests\n",
    "import pandas as pd\n",
    "from bs4 import BeautifulSoup\n",
    "from datetime import datetime"
   ]
  },
  {
   "cell_type": "code",
   "execution_count": 33,
   "id": "d3fa2952",
   "metadata": {},
   "outputs": [],
   "source": [
    "\n",
    "headers = {\n",
    "    'authority': 'www.amazon.com',\n",
    "    'accept': 'text/html,application/xhtml+xml,application/xml;q=0.9,image/avif,image/webp,image/apng,*/*;q=0.8,application/signed-exchange;v=b3;q=0.9',\n",
    "    'accept-language': 'en-US,en;q=0.9,bn;q=0.8',\n",
    "    'sec-ch-ua': '\" Not A;Brand\";v=\"99\", \"Chromium\";v=\"102\", \"Google Chrome\";v=\"102\"',\n",
    "    'user-agent': 'Mozilla/5.0 (Windows NT 10.0; Win64; x64) AppleWebKit/537.36 (KHTML, like Gecko) Chrome/102.0.0.0 Safari/537.36'\n",
    "}"
   ]
  },
  {
   "cell_type": "code",
   "execution_count": 34,
   "id": "f19e72fc",
   "metadata": {},
   "outputs": [],
   "source": [
    "reviews_url = 'https://www.amazon.com/Legendary-Whitetails-Journeyman-Jacket-Tarmac/product-reviews/B013KW38RQ/'"
   ]
  },
  {
   "cell_type": "code",
   "execution_count": 35,
   "id": "51563925",
   "metadata": {},
   "outputs": [],
   "source": [
    "\n",
    "len_page = 1000"
   ]
  },
  {
   "cell_type": "code",
   "execution_count": 36,
   "id": "75b0d65d",
   "metadata": {},
   "outputs": [],
   "source": [
    "\n",
    "def reviewsHtml(url, len_page):\n",
    "    soups = []\n",
    "    for page_no in range(1, len_page + 1):\n",
    "        params = {\n",
    "            'ie': 'UTF8',\n",
    "            'reviewerType': 'all_reviews',\n",
    "            'filterByStar': 'critical',\n",
    "            'pageNumber': page_no,\n",
    "        }\n",
    "        response = requests.get(url, headers=headers)\n",
    "        soup = BeautifulSoup(response.text, 'lxml')\n",
    "        soups.append(soup)\n",
    "    return soups"
   ]
  },
  {
   "cell_type": "code",
   "execution_count": 37,
   "id": "8dd5f9c7",
   "metadata": {},
   "outputs": [],
   "source": [
    "\n",
    "def getReviews(html_data):\n",
    "    data_dicts = []\n",
    "    boxes = html_data.select('div[data-hook=\"review\"]')\n",
    "    for box in boxes:\n",
    "        try:\n",
    "            name = box.select_one('[class=\"a-profile-name\"]').text.strip()\n",
    "        except Exception as e:\n",
    "            name = 'N/A'\n",
    "        try:\n",
    "            stars = box.select_one('[data-hook=\"review-star-rating\"]').text.strip().split(' out')[0]\n",
    "        except Exception as e:\n",
    "            stars = 'N/A'   \n",
    "        try:\n",
    "            title = box.select_one('[data-hook=\"review-title\"]').text.strip()\n",
    "        except Exception as e:\n",
    "            title = 'N/A'\n",
    "        try:\n",
    "            datetime_str = box.select_one('[data-hook=\"review-date\"]').text.strip().split(' on ')[-1]\n",
    "            date = datetime.strptime(datetime_str, '%B %d, %Y').strftime(\"%d/%m/%Y\")\n",
    "        except Exception as e:\n",
    "            date = 'N/A'\n",
    "        try:\n",
    "            description = box.select_one('[data-hook=\"review-body\"]').text.strip()\n",
    "        except Exception as e:\n",
    "            description = 'N/A'\n",
    "        data_dict = {\n",
    "            'Name' : name,\n",
    "            'Stars' : stars,\n",
    "            'Title' : title,\n",
    "            'Date' : date,\n",
    "            'Description' : description\n",
    "        }\n",
    "        data_dicts.append(data_dict)\n",
    "    return data_dicts"
   ]
  },
  {
   "cell_type": "code",
   "execution_count": 38,
   "id": "83731672",
   "metadata": {
    "scrolled": true
   },
   "outputs": [],
   "source": [
    "\n",
    "html_datas = reviewsHtml(reviews_url, len_page)"
   ]
  },
  {
   "cell_type": "code",
   "execution_count": 27,
   "id": "545bb6ed",
   "metadata": {},
   "outputs": [],
   "source": [
    "\n",
    "reviews = []"
   ]
  },
  {
   "cell_type": "code",
   "execution_count": 28,
   "id": "a26391c7",
   "metadata": {},
   "outputs": [],
   "source": [
    "\n",
    "for html_data in html_datas:\n",
    "    review = getReviews(html_data)\n",
    "    reviews += review"
   ]
  },
  {
   "cell_type": "code",
   "execution_count": 29,
   "id": "25fd4ec7",
   "metadata": {},
   "outputs": [],
   "source": [
    "\n",
    "df_reviews = pd.DataFrame(reviews)"
   ]
  },
  {
   "cell_type": "code",
   "execution_count": 30,
   "id": "394b9257",
   "metadata": {
    "scrolled": true
   },
   "outputs": [
    {
     "data": {
      "text/html": [
       "<div>\n",
       "<style scoped>\n",
       "    .dataframe tbody tr th:only-of-type {\n",
       "        vertical-align: middle;\n",
       "    }\n",
       "\n",
       "    .dataframe tbody tr th {\n",
       "        vertical-align: top;\n",
       "    }\n",
       "\n",
       "    .dataframe thead th {\n",
       "        text-align: right;\n",
       "    }\n",
       "</style>\n",
       "<table border=\"1\" class=\"dataframe\">\n",
       "  <thead>\n",
       "    <tr style=\"text-align: right;\">\n",
       "      <th></th>\n",
       "      <th>Name</th>\n",
       "      <th>Stars</th>\n",
       "      <th>Title</th>\n",
       "      <th>Date</th>\n",
       "      <th>Description</th>\n",
       "    </tr>\n",
       "  </thead>\n",
       "  <tbody>\n",
       "    <tr>\n",
       "      <th>0</th>\n",
       "      <td>Erica</td>\n",
       "      <td>5.0</td>\n",
       "      <td>5.0 out of 5 stars\\nQuality. But, the sizes ar...</td>\n",
       "      <td>18/12/2023</td>\n",
       "      <td>I am a large, sometimes an XL. I ordered a 4XL...</td>\n",
       "    </tr>\n",
       "    <tr>\n",
       "      <th>1</th>\n",
       "      <td>Melissa Sugar</td>\n",
       "      <td>5.0</td>\n",
       "      <td>5.0 out of 5 stars\\nDurable, Attractive, Multi...</td>\n",
       "      <td>01/08/2022</td>\n",
       "      <td>I purchased various Legendary Whitetails Men's...</td>\n",
       "    </tr>\n",
       "    <tr>\n",
       "      <th>2</th>\n",
       "      <td>Anthony L Leslie Jr.</td>\n",
       "      <td>5.0</td>\n",
       "      <td>5.0 out of 5 stars\\nPerfect fit</td>\n",
       "      <td>28/01/2024</td>\n",
       "      <td>I love this jacket shirt. It is really nice, w...</td>\n",
       "    </tr>\n",
       "    <tr>\n",
       "      <th>3</th>\n",
       "      <td>Jeff</td>\n",
       "      <td>4.0</td>\n",
       "      <td>4.0 out of 5 stars\\nRugged, good look and nice...</td>\n",
       "      <td>02/10/2018</td>\n",
       "      <td>The short answer to if you should go down from...</td>\n",
       "    </tr>\n",
       "    <tr>\n",
       "      <th>4</th>\n",
       "      <td>Amazon Customer</td>\n",
       "      <td>5.0</td>\n",
       "      <td>5.0 out of 5 stars\\nGreat Purchase!</td>\n",
       "      <td>18/01/2024</td>\n",
       "      <td>I got this for my husband for Christmas. Appar...</td>\n",
       "    </tr>\n",
       "    <tr>\n",
       "      <th>...</th>\n",
       "      <td>...</td>\n",
       "      <td>...</td>\n",
       "      <td>...</td>\n",
       "      <td>...</td>\n",
       "      <td>...</td>\n",
       "    </tr>\n",
       "    <tr>\n",
       "      <th>2995</th>\n",
       "      <td>Brenda</td>\n",
       "      <td>5.0</td>\n",
       "      <td>5.0 out of 5 stars\\nGreat quality and good fit</td>\n",
       "      <td>15/01/2024</td>\n",
       "      <td>Got this for my husband not knowing if it was ...</td>\n",
       "    </tr>\n",
       "    <tr>\n",
       "      <th>2996</th>\n",
       "      <td>A. Westwood</td>\n",
       "      <td>3.0</td>\n",
       "      <td>3.0 out of 5 stars\\nGreat fabrics and sewing, ...</td>\n",
       "      <td>19/01/2024</td>\n",
       "      <td>Great fabric and lining, this \"Shaket\" is made...</td>\n",
       "    </tr>\n",
       "    <tr>\n",
       "      <th>2997</th>\n",
       "      <td>Amazon Customer</td>\n",
       "      <td>5.0</td>\n",
       "      <td>5.0 out of 5 stars\\nMy son loved it</td>\n",
       "      <td>05/02/2024</td>\n",
       "      <td>This is a really nice jacket.  It’s lined and ...</td>\n",
       "    </tr>\n",
       "    <tr>\n",
       "      <th>2998</th>\n",
       "      <td>Jeff E</td>\n",
       "      <td>5.0</td>\n",
       "      <td>5.0 out of 5 stars\\nNew favorite piece</td>\n",
       "      <td>08/02/2024</td>\n",
       "      <td>Was looking for a \"sh-acket\" that was not only...</td>\n",
       "    </tr>\n",
       "    <tr>\n",
       "      <th>2999</th>\n",
       "      <td>Amazon Customer</td>\n",
       "      <td>5.0</td>\n",
       "      <td>5.0 out of 5 stars\\nLove!!</td>\n",
       "      <td>02/02/2024</td>\n",
       "      <td>My husband first received one of these jackets...</td>\n",
       "    </tr>\n",
       "  </tbody>\n",
       "</table>\n",
       "<p>3000 rows × 5 columns</p>\n",
       "</div>"
      ],
      "text/plain": [
       "                      Name Stars  \\\n",
       "0                    Erica   5.0   \n",
       "1            Melissa Sugar   5.0   \n",
       "2     Anthony L Leslie Jr.   5.0   \n",
       "3                     Jeff   4.0   \n",
       "4          Amazon Customer   5.0   \n",
       "...                    ...   ...   \n",
       "2995                Brenda   5.0   \n",
       "2996           A. Westwood   3.0   \n",
       "2997       Amazon Customer   5.0   \n",
       "2998                Jeff E   5.0   \n",
       "2999       Amazon Customer   5.0   \n",
       "\n",
       "                                                  Title        Date  \\\n",
       "0     5.0 out of 5 stars\\nQuality. But, the sizes ar...  18/12/2023   \n",
       "1     5.0 out of 5 stars\\nDurable, Attractive, Multi...  01/08/2022   \n",
       "2                       5.0 out of 5 stars\\nPerfect fit  28/01/2024   \n",
       "3     4.0 out of 5 stars\\nRugged, good look and nice...  02/10/2018   \n",
       "4                   5.0 out of 5 stars\\nGreat Purchase!  18/01/2024   \n",
       "...                                                 ...         ...   \n",
       "2995     5.0 out of 5 stars\\nGreat quality and good fit  15/01/2024   \n",
       "2996  3.0 out of 5 stars\\nGreat fabrics and sewing, ...  19/01/2024   \n",
       "2997                5.0 out of 5 stars\\nMy son loved it  05/02/2024   \n",
       "2998             5.0 out of 5 stars\\nNew favorite piece  08/02/2024   \n",
       "2999                         5.0 out of 5 stars\\nLove!!  02/02/2024   \n",
       "\n",
       "                                            Description  \n",
       "0     I am a large, sometimes an XL. I ordered a 4XL...  \n",
       "1     I purchased various Legendary Whitetails Men's...  \n",
       "2     I love this jacket shirt. It is really nice, w...  \n",
       "3     The short answer to if you should go down from...  \n",
       "4     I got this for my husband for Christmas. Appar...  \n",
       "...                                                 ...  \n",
       "2995  Got this for my husband not knowing if it was ...  \n",
       "2996  Great fabric and lining, this \"Shaket\" is made...  \n",
       "2997  This is a really nice jacket.  It’s lined and ...  \n",
       "2998  Was looking for a \"sh-acket\" that was not only...  \n",
       "2999  My husband first received one of these jackets...  \n",
       "\n",
       "[3000 rows x 5 columns]"
      ]
     },
     "execution_count": 30,
     "metadata": {},
     "output_type": "execute_result"
    }
   ],
   "source": [
    "df_reviews"
   ]
  },
  {
   "cell_type": "code",
   "execution_count": 31,
   "id": "53a4b504",
   "metadata": {},
   "outputs": [],
   "source": [
    "\n",
    "df_reviews.to_csv('reviews.csv', index=False)"
   ]
  },
  {
   "cell_type": "code",
   "execution_count": null,
   "id": "4da15509",
   "metadata": {},
   "outputs": [],
   "source": []
  },
  {
   "cell_type": "code",
   "execution_count": null,
   "id": "f7ad323f",
   "metadata": {},
   "outputs": [],
   "source": []
  },
  {
   "cell_type": "code",
   "execution_count": null,
   "id": "4bb1758c",
   "metadata": {},
   "outputs": [],
   "source": []
  }
 ],
 "metadata": {
  "kernelspec": {
   "display_name": "Python 3 (ipykernel)",
   "language": "python",
   "name": "python3"
  },
  "language_info": {
   "codemirror_mode": {
    "name": "ipython",
    "version": 3
   },
   "file_extension": ".py",
   "mimetype": "text/x-python",
   "name": "python",
   "nbconvert_exporter": "python",
   "pygments_lexer": "ipython3",
   "version": "3.9.18"
  }
 },
 "nbformat": 4,
 "nbformat_minor": 5
}
