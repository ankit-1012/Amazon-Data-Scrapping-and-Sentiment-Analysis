{
 "cells": [
  {
   "cell_type": "code",
   "execution_count": 20,
   "id": "7f3fdea5",
   "metadata": {},
   "outputs": [],
   "source": [
    "import pandas as pd\n",
    "import nltk\n",
    "from nltk.corpus import stopwords\n",
    "from sklearn.feature_extraction.text import TfidfVectorizer\n",
    "from sklearn.model_selection import train_test_split\n",
    "from sklearn.naive_bayes import MultinomialNB\n",
    "from sklearn.metrics import accuracy_score, classification_report\n",
    "from nltk.stem import WordNetLemmatizer\n",
    "from sklearn.preprocessing import Normalizer\n",
    "from nltk.tokenize import word_tokenize\n",
    "nltk.download('all')"
   ]
  },
  {
   "cell_type": "code",
   "execution_count": 54,
   "id": "ebab4027",
   "metadata": {},
   "outputs": [],
   "source": [
    "df = pd.read_csv('reviews.csv')\n",
    "df = df[['Description', 'Stars']]"
   ]
  },
  {
   "cell_type": "code",
   "execution_count": 55,
   "id": "4d90f9e6",
   "metadata": {},
   "outputs": [
    {
     "data": {
      "text/html": [
       "<div>\n",
       "<style scoped>\n",
       "    .dataframe tbody tr th:only-of-type {\n",
       "        vertical-align: middle;\n",
       "    }\n",
       "\n",
       "    .dataframe tbody tr th {\n",
       "        vertical-align: top;\n",
       "    }\n",
       "\n",
       "    .dataframe thead th {\n",
       "        text-align: right;\n",
       "    }\n",
       "</style>\n",
       "<table border=\"1\" class=\"dataframe\">\n",
       "  <thead>\n",
       "    <tr style=\"text-align: right;\">\n",
       "      <th></th>\n",
       "      <th>Description</th>\n",
       "      <th>Stars</th>\n",
       "    </tr>\n",
       "  </thead>\n",
       "  <tbody>\n",
       "    <tr>\n",
       "      <th>0</th>\n",
       "      <td>I am a large, sometimes an XL. I ordered a 4XL...</td>\n",
       "      <td>5.0</td>\n",
       "    </tr>\n",
       "    <tr>\n",
       "      <th>1</th>\n",
       "      <td>I purchased various Legendary Whitetails Men's...</td>\n",
       "      <td>5.0</td>\n",
       "    </tr>\n",
       "    <tr>\n",
       "      <th>2</th>\n",
       "      <td>I love this jacket shirt. It is really nice, w...</td>\n",
       "      <td>5.0</td>\n",
       "    </tr>\n",
       "    <tr>\n",
       "      <th>3</th>\n",
       "      <td>The short answer to if you should go down from...</td>\n",
       "      <td>4.0</td>\n",
       "    </tr>\n",
       "    <tr>\n",
       "      <th>4</th>\n",
       "      <td>I got this for my husband for Christmas. Appar...</td>\n",
       "      <td>5.0</td>\n",
       "    </tr>\n",
       "    <tr>\n",
       "      <th>...</th>\n",
       "      <td>...</td>\n",
       "      <td>...</td>\n",
       "    </tr>\n",
       "    <tr>\n",
       "      <th>2995</th>\n",
       "      <td>Got this for my husband not knowing if it was ...</td>\n",
       "      <td>5.0</td>\n",
       "    </tr>\n",
       "    <tr>\n",
       "      <th>2996</th>\n",
       "      <td>Great fabric and lining, this \"Shaket\" is made...</td>\n",
       "      <td>3.0</td>\n",
       "    </tr>\n",
       "    <tr>\n",
       "      <th>2997</th>\n",
       "      <td>This is a really nice jacket.  It’s lined and ...</td>\n",
       "      <td>5.0</td>\n",
       "    </tr>\n",
       "    <tr>\n",
       "      <th>2998</th>\n",
       "      <td>Was looking for a \"sh-acket\" that was not only...</td>\n",
       "      <td>5.0</td>\n",
       "    </tr>\n",
       "    <tr>\n",
       "      <th>2999</th>\n",
       "      <td>My husband first received one of these jackets...</td>\n",
       "      <td>5.0</td>\n",
       "    </tr>\n",
       "  </tbody>\n",
       "</table>\n",
       "<p>3000 rows × 2 columns</p>\n",
       "</div>"
      ],
      "text/plain": [
       "                                            Description  Stars\n",
       "0     I am a large, sometimes an XL. I ordered a 4XL...    5.0\n",
       "1     I purchased various Legendary Whitetails Men's...    5.0\n",
       "2     I love this jacket shirt. It is really nice, w...    5.0\n",
       "3     The short answer to if you should go down from...    4.0\n",
       "4     I got this for my husband for Christmas. Appar...    5.0\n",
       "...                                                 ...    ...\n",
       "2995  Got this for my husband not knowing if it was ...    5.0\n",
       "2996  Great fabric and lining, this \"Shaket\" is made...    3.0\n",
       "2997  This is a really nice jacket.  It’s lined and ...    5.0\n",
       "2998  Was looking for a \"sh-acket\" that was not only...    5.0\n",
       "2999  My husband first received one of these jackets...    5.0\n",
       "\n",
       "[3000 rows x 2 columns]"
      ]
     },
     "execution_count": 55,
     "metadata": {},
     "output_type": "execute_result"
    }
   ],
   "source": [
    "df = df.dropna()\n",
    "df"
   ]
  },
  {
   "cell_type": "code",
   "execution_count": 53,
   "id": "ca108c7e",
   "metadata": {},
   "outputs": [],
   "source": [
    "stop_words = set(stopwords.words('english'))\n",
    "lemmatizer = WordNetLemmatizer()"
   ]
  },
  {
   "cell_type": "code",
   "execution_count": 33,
   "id": "99630363",
   "metadata": {},
   "outputs": [],
   "source": []
  },
  {
   "cell_type": "code",
   "execution_count": 56,
   "id": "ae6a91c9",
   "metadata": {},
   "outputs": [],
   "source": [
    "def preprocess_text(text):\n",
    "    tokens = word_tokenize(text)\n",
    "    # Convert tokens to lowercase\n",
    "    tokens = [token.lower() for token in tokens]\n",
    "    # Remove stopwords\n",
    "    tokens = [token for token in tokens if token not in stop_words]\n",
    "    # Lemmatize tokens\n",
    "    tokens = [lemmatizer.lemmatize(token) for token in tokens]\n",
    "    return ' '.join(tokens)"
   ]
  },
  {
   "cell_type": "code",
   "execution_count": 84,
   "id": "5271c601",
   "metadata": {},
   "outputs": [
    {
     "data": {
      "text/html": [
       "<div>\n",
       "<style scoped>\n",
       "    .dataframe tbody tr th:only-of-type {\n",
       "        vertical-align: middle;\n",
       "    }\n",
       "\n",
       "    .dataframe tbody tr th {\n",
       "        vertical-align: top;\n",
       "    }\n",
       "\n",
       "    .dataframe thead th {\n",
       "        text-align: right;\n",
       "    }\n",
       "</style>\n",
       "<table border=\"1\" class=\"dataframe\">\n",
       "  <thead>\n",
       "    <tr style=\"text-align: right;\">\n",
       "      <th></th>\n",
       "      <th>Description</th>\n",
       "      <th>Stars</th>\n",
       "      <th>processed_description</th>\n",
       "    </tr>\n",
       "  </thead>\n",
       "  <tbody>\n",
       "    <tr>\n",
       "      <th>0</th>\n",
       "      <td>I am a large, sometimes an XL. I ordered a 4XL...</td>\n",
       "      <td>5</td>\n",
       "      <td>large , sometimes xl . ordered 4xl based diagr...</td>\n",
       "    </tr>\n",
       "    <tr>\n",
       "      <th>1</th>\n",
       "      <td>I purchased various Legendary Whitetails Men's...</td>\n",
       "      <td>5</td>\n",
       "      <td>purchased various legendary whitetail men 's j...</td>\n",
       "    </tr>\n",
       "    <tr>\n",
       "      <th>2</th>\n",
       "      <td>I love this jacket shirt. It is really nice, w...</td>\n",
       "      <td>5</td>\n",
       "      <td>love jacket shirt . really nice , warm comfort...</td>\n",
       "    </tr>\n",
       "    <tr>\n",
       "      <th>3</th>\n",
       "      <td>The short answer to if you should go down from...</td>\n",
       "      <td>4</td>\n",
       "      <td>short answer go typical size : yes , probably ...</td>\n",
       "    </tr>\n",
       "    <tr>\n",
       "      <th>4</th>\n",
       "      <td>I got this for my husband for Christmas. Appar...</td>\n",
       "      <td>5</td>\n",
       "      <td>got husband christmas . apparently popular . l...</td>\n",
       "    </tr>\n",
       "    <tr>\n",
       "      <th>...</th>\n",
       "      <td>...</td>\n",
       "      <td>...</td>\n",
       "      <td>...</td>\n",
       "    </tr>\n",
       "    <tr>\n",
       "      <th>2995</th>\n",
       "      <td>Got this for my husband not knowing if it was ...</td>\n",
       "      <td>5</td>\n",
       "      <td>got husband knowing going fit well . 's hard f...</td>\n",
       "    </tr>\n",
       "    <tr>\n",
       "      <th>2996</th>\n",
       "      <td>Great fabric and lining, this \"Shaket\" is made...</td>\n",
       "      <td>3</td>\n",
       "      <td>great fabric lining , `` shaket '' made materi...</td>\n",
       "    </tr>\n",
       "    <tr>\n",
       "      <th>2997</th>\n",
       "      <td>This is a really nice jacket.  It’s lined and ...</td>\n",
       "      <td>5</td>\n",
       "      <td>really nice jacket . ’ lined medium weight rai...</td>\n",
       "    </tr>\n",
       "    <tr>\n",
       "      <th>2998</th>\n",
       "      <td>Was looking for a \"sh-acket\" that was not only...</td>\n",
       "      <td>5</td>\n",
       "      <td>looking `` sh-acket '' lightweight provided wa...</td>\n",
       "    </tr>\n",
       "    <tr>\n",
       "      <th>2999</th>\n",
       "      <td>My husband first received one of these jackets...</td>\n",
       "      <td>5</td>\n",
       "      <td>husband first received one jacket gift , wore ...</td>\n",
       "    </tr>\n",
       "  </tbody>\n",
       "</table>\n",
       "<p>3000 rows × 3 columns</p>\n",
       "</div>"
      ],
      "text/plain": [
       "                                            Description  Stars  \\\n",
       "0     I am a large, sometimes an XL. I ordered a 4XL...      5   \n",
       "1     I purchased various Legendary Whitetails Men's...      5   \n",
       "2     I love this jacket shirt. It is really nice, w...      5   \n",
       "3     The short answer to if you should go down from...      4   \n",
       "4     I got this for my husband for Christmas. Appar...      5   \n",
       "...                                                 ...    ...   \n",
       "2995  Got this for my husband not knowing if it was ...      5   \n",
       "2996  Great fabric and lining, this \"Shaket\" is made...      3   \n",
       "2997  This is a really nice jacket.  It’s lined and ...      5   \n",
       "2998  Was looking for a \"sh-acket\" that was not only...      5   \n",
       "2999  My husband first received one of these jackets...      5   \n",
       "\n",
       "                                  processed_description  \n",
       "0     large , sometimes xl . ordered 4xl based diagr...  \n",
       "1     purchased various legendary whitetail men 's j...  \n",
       "2     love jacket shirt . really nice , warm comfort...  \n",
       "3     short answer go typical size : yes , probably ...  \n",
       "4     got husband christmas . apparently popular . l...  \n",
       "...                                                 ...  \n",
       "2995  got husband knowing going fit well . 's hard f...  \n",
       "2996  great fabric lining , `` shaket '' made materi...  \n",
       "2997  really nice jacket . ’ lined medium weight rai...  \n",
       "2998  looking `` sh-acket '' lightweight provided wa...  \n",
       "2999  husband first received one jacket gift , wore ...  \n",
       "\n",
       "[3000 rows x 3 columns]"
      ]
     },
     "execution_count": 84,
     "metadata": {},
     "output_type": "execute_result"
    }
   ],
   "source": [
    "df['processed_description'] = df['Description'].apply(preprocess_text)\n",
    "df['Stars'] = df['Stars'].astype(int)\n",
    "df"
   ]
  },
  {
   "cell_type": "code",
   "execution_count": 86,
   "id": "0d426971",
   "metadata": {},
   "outputs": [],
   "source": [
    "column_to_drop = 'Description'\n",
    "df.drop(columns=[column_to_drop], inplace=True)\n"
   ]
  },
  {
   "cell_type": "code",
   "execution_count": 87,
   "id": "be149ce4",
   "metadata": {},
   "outputs": [
    {
     "data": {
      "text/html": [
       "<div>\n",
       "<style scoped>\n",
       "    .dataframe tbody tr th:only-of-type {\n",
       "        vertical-align: middle;\n",
       "    }\n",
       "\n",
       "    .dataframe tbody tr th {\n",
       "        vertical-align: top;\n",
       "    }\n",
       "\n",
       "    .dataframe thead th {\n",
       "        text-align: right;\n",
       "    }\n",
       "</style>\n",
       "<table border=\"1\" class=\"dataframe\">\n",
       "  <thead>\n",
       "    <tr style=\"text-align: right;\">\n",
       "      <th></th>\n",
       "      <th>Stars</th>\n",
       "      <th>processed_description</th>\n",
       "    </tr>\n",
       "  </thead>\n",
       "  <tbody>\n",
       "    <tr>\n",
       "      <th>0</th>\n",
       "      <td>5</td>\n",
       "      <td>large , sometimes xl . ordered 4xl based diagr...</td>\n",
       "    </tr>\n",
       "    <tr>\n",
       "      <th>1</th>\n",
       "      <td>5</td>\n",
       "      <td>purchased various legendary whitetail men 's j...</td>\n",
       "    </tr>\n",
       "    <tr>\n",
       "      <th>2</th>\n",
       "      <td>5</td>\n",
       "      <td>love jacket shirt . really nice , warm comfort...</td>\n",
       "    </tr>\n",
       "    <tr>\n",
       "      <th>3</th>\n",
       "      <td>4</td>\n",
       "      <td>short answer go typical size : yes , probably ...</td>\n",
       "    </tr>\n",
       "    <tr>\n",
       "      <th>4</th>\n",
       "      <td>5</td>\n",
       "      <td>got husband christmas . apparently popular . l...</td>\n",
       "    </tr>\n",
       "    <tr>\n",
       "      <th>...</th>\n",
       "      <td>...</td>\n",
       "      <td>...</td>\n",
       "    </tr>\n",
       "    <tr>\n",
       "      <th>2995</th>\n",
       "      <td>5</td>\n",
       "      <td>got husband knowing going fit well . 's hard f...</td>\n",
       "    </tr>\n",
       "    <tr>\n",
       "      <th>2996</th>\n",
       "      <td>3</td>\n",
       "      <td>great fabric lining , `` shaket '' made materi...</td>\n",
       "    </tr>\n",
       "    <tr>\n",
       "      <th>2997</th>\n",
       "      <td>5</td>\n",
       "      <td>really nice jacket . ’ lined medium weight rai...</td>\n",
       "    </tr>\n",
       "    <tr>\n",
       "      <th>2998</th>\n",
       "      <td>5</td>\n",
       "      <td>looking `` sh-acket '' lightweight provided wa...</td>\n",
       "    </tr>\n",
       "    <tr>\n",
       "      <th>2999</th>\n",
       "      <td>5</td>\n",
       "      <td>husband first received one jacket gift , wore ...</td>\n",
       "    </tr>\n",
       "  </tbody>\n",
       "</table>\n",
       "<p>3000 rows × 2 columns</p>\n",
       "</div>"
      ],
      "text/plain": [
       "      Stars                              processed_description\n",
       "0         5  large , sometimes xl . ordered 4xl based diagr...\n",
       "1         5  purchased various legendary whitetail men 's j...\n",
       "2         5  love jacket shirt . really nice , warm comfort...\n",
       "3         4  short answer go typical size : yes , probably ...\n",
       "4         5  got husband christmas . apparently popular . l...\n",
       "...     ...                                                ...\n",
       "2995      5  got husband knowing going fit well . 's hard f...\n",
       "2996      3  great fabric lining , `` shaket '' made materi...\n",
       "2997      5  really nice jacket . ’ lined medium weight rai...\n",
       "2998      5  looking `` sh-acket '' lightweight provided wa...\n",
       "2999      5  husband first received one jacket gift , wore ...\n",
       "\n",
       "[3000 rows x 2 columns]"
      ]
     },
     "execution_count": 87,
     "metadata": {},
     "output_type": "execute_result"
    }
   ],
   "source": [
    "\n",
    "df"
   ]
  },
  {
   "cell_type": "code",
   "execution_count": 83,
   "id": "7675b82a",
   "metadata": {},
   "outputs": [
    {
     "data": {
      "text/plain": [
       "(600,)"
      ]
     },
     "execution_count": 83,
     "metadata": {},
     "output_type": "execute_result"
    }
   ],
   "source": [
    "    "
   ]
  },
  {
   "cell_type": "code",
   "execution_count": 88,
   "id": "3add5932",
   "metadata": {},
   "outputs": [],
   "source": [
    "vectorizer = TfidfVectorizer(use_idf=True, lowercase=True, strip_accents='ascii', stop_words='english')"
   ]
  },
  {
   "cell_type": "code",
   "execution_count": 89,
   "id": "0d56a64e",
   "metadata": {},
   "outputs": [],
   "source": [
    "y = df.Stars\n",
    "x = vectorizer.fit_transform(df.processed_description)"
   ]
  },
  {
   "cell_type": "code",
   "execution_count": null,
   "id": "8c86b3b2",
   "metadata": {},
   "outputs": [],
   "source": []
  },
  {
   "cell_type": "code",
   "execution_count": null,
   "id": "d20adc45",
   "metadata": {},
   "outputs": [],
   "source": []
  },
  {
   "cell_type": "code",
   "execution_count": 90,
   "id": "b2cefcc4",
   "metadata": {},
   "outputs": [],
   "source": [
    "X_Train, X_Test, y_Train, y_Test = train_test_split(x,y,test_size= 0.2, random_state=42)"
   ]
  },
  {
   "cell_type": "code",
   "execution_count": 91,
   "id": "9cf9b65b",
   "metadata": {},
   "outputs": [
    {
     "name": "stdout",
     "output_type": "stream",
     "text": [
      "Accuracy: 1.00\n",
      "              precision    recall  f1-score   support\n",
      "\n",
      "           3       1.00      1.00      1.00        56\n",
      "           4       1.00      1.00      1.00        60\n",
      "           5       1.00      1.00      1.00       484\n",
      "\n",
      "    accuracy                           1.00       600\n",
      "   macro avg       1.00      1.00      1.00       600\n",
      "weighted avg       1.00      1.00      1.00       600\n",
      "\n"
     ]
    }
   ],
   "source": [
    "from sklearn.linear_model import LogisticRegression\n",
    "from sklearn.metrics import accuracy_score, classification_report\n",
    "logreg_classifier = LogisticRegression(max_iter=1000)\n",
    "logreg_classifier.fit(X_Train, y_Train)\n",
    "y_pred = logreg_classifier.predict(X_Test)\n",
    "accuracy = accuracy_score(y_Test, y_pred)\n",
    "print(f'Accuracy: {accuracy:.2f}')\n",
    "print(classification_report(y_Test, y_pred))\n"
   ]
  },
  {
   "cell_type": "code",
   "execution_count": 92,
   "id": "2e6db5e1",
   "metadata": {},
   "outputs": [
    {
     "name": "stdout",
     "output_type": "stream",
     "text": [
      "Accuracy: 1.00\n",
      "              precision    recall  f1-score   support\n",
      "\n",
      "           3       1.00      1.00      1.00        56\n",
      "           4       1.00      1.00      1.00        60\n",
      "           5       1.00      1.00      1.00       484\n",
      "\n",
      "    accuracy                           1.00       600\n",
      "   macro avg       1.00      1.00      1.00       600\n",
      "weighted avg       1.00      1.00      1.00       600\n",
      "\n"
     ]
    }
   ],
   "source": [
    "from sklearn.naive_bayes import MultinomialNB\n",
    "from sklearn.metrics import accuracy_score, classification_report\n",
    "\n",
    "nb_classifier = MultinomialNB()\n",
    "nb_classifier.fit(X_Train, y_Train)\n",
    "y_pred = nb_classifier.predict(X_Test)\n",
    "accuracy = accuracy_score(y_Test, y_pred)\n",
    "print(f'Accuracy: {accuracy:.2f}')\n",
    "print(classification_report(y_Test, y_pred))\n"
   ]
  },
  {
   "cell_type": "code",
   "execution_count": 93,
   "id": "542e4c30",
   "metadata": {},
   "outputs": [
    {
     "name": "stdout",
     "output_type": "stream",
     "text": [
      "The predicted rating for the review 'good fit and sewing' is: 5\n"
     ]
    }
   ],
   "source": [
    "\n",
    "random_review = \"good fit and sewing\"\n",
    "\n",
    "vectorized_review = vectorizer.transform([random_review])\n",
    "\n",
    "\n",
    "predicted_rating = logreg_classifier.predict(vectorized_review)[0]\n",
    "\n",
    "print(f\"The predicted rating for the review '{random_review}' is: {predicted_rating}\")"
   ]
  },
  {
   "cell_type": "code",
   "execution_count": 94,
   "id": "f363e5e8",
   "metadata": {},
   "outputs": [
    {
     "name": "stdout",
     "output_type": "stream",
     "text": [
      "The predicted rating for the review 'good fit and sewing' is: 5\n"
     ]
    }
   ],
   "source": [
    "random_review = \"good fit and sewing\"\n",
    "\n",
    "vectorized_review = vectorizer.transform([random_review])\n",
    "\n",
    "\n",
    "predicted_rating = nb_classifier.predict(vectorized_review)[0]\n",
    "\n",
    "print(f\"The predicted rating for the review '{random_review}' is: {predicted_rating}\")"
   ]
  },
  {
   "cell_type": "code",
   "execution_count": 107,
   "id": "4f43f337",
   "metadata": {},
   "outputs": [
    {
     "name": "stdout",
     "output_type": "stream",
     "text": [
      "The predicted rating for the review 'good fit but bad sewing' is: 4\n"
     ]
    }
   ],
   "source": [
    "random_review = \"good fit but bad sewing\"\n",
    "\n",
    "vectorized_review = vectorizer.transform([random_review])\n",
    "\n",
    "\n",
    "predicted_rating = nb_classifier.predict(vectorized_review)[0]\n",
    "\n",
    "print(f\"The predicted rating for the review '{random_review}' is: {predicted_rating}\")"
   ]
  },
  {
   "cell_type": "code",
   "execution_count": null,
   "id": "a8de30e1",
   "metadata": {},
   "outputs": [],
   "source": []
  }
 ],
 "metadata": {
  "kernelspec": {
   "display_name": "Python 3 (ipykernel)",
   "language": "python",
   "name": "python3"
  },
  "language_info": {
   "codemirror_mode": {
    "name": "ipython",
    "version": 3
   },
   "file_extension": ".py",
   "mimetype": "text/x-python",
   "name": "python",
   "nbconvert_exporter": "python",
   "pygments_lexer": "ipython3",
   "version": "3.9.18"
  }
 },
 "nbformat": 4,
 "nbformat_minor": 5
}
